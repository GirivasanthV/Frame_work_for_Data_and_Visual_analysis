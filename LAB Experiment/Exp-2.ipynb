{
 "cells": [
  {
   "cell_type": "code",
   "execution_count": 23,
   "id": "05756cc0-7db5-4c5e-82cf-01756414f76c",
   "metadata": {
    "tags": []
   },
   "outputs": [
    {
     "name": "stdout",
     "output_type": "stream",
     "text": [
      "CSV Data:\n",
      "   Id  SepalLengthCm  SepalWidthCm  PetalLengthCm  PetalWidthCm      Species\n",
      "0   1            5.1           3.5            1.4           0.2  Iris-setosa\n",
      "1   2            4.9           3.0            1.4           0.2  Iris-setosa\n",
      "2   3            4.7           3.2            1.3           0.2  Iris-setosa\n",
      "3   4            4.6           3.1            1.5           0.2  Iris-setosa\n",
      "4   5            5.0           3.6            1.4           0.2  Iris-setosa\n",
      "\n",
      "Excel Data:\n"
     ]
    },
    {
     "data": {
      "text/html": [
       "<div>\n",
       "<style scoped>\n",
       "    .dataframe tbody tr th:only-of-type {\n",
       "        vertical-align: middle;\n",
       "    }\n",
       "\n",
       "    .dataframe tbody tr th {\n",
       "        vertical-align: top;\n",
       "    }\n",
       "\n",
       "    .dataframe thead th {\n",
       "        text-align: right;\n",
       "    }\n",
       "</style>\n",
       "<table border=\"1\" class=\"dataframe\">\n",
       "  <thead>\n",
       "    <tr style=\"text-align: right;\">\n",
       "      <th></th>\n",
       "      <th>Location</th>\n",
       "      <th>Population</th>\n",
       "      <th>% of world</th>\n",
       "      <th>Date</th>\n",
       "      <th>Source (official or from the United Nations)</th>\n",
       "      <th>Notes</th>\n",
       "    </tr>\n",
       "  </thead>\n",
       "  <tbody>\n",
       "    <tr>\n",
       "      <th>0</th>\n",
       "      <td>World</td>\n",
       "      <td>8232000000</td>\n",
       "      <td>100%</td>\n",
       "      <td>13 Jun 2025</td>\n",
       "      <td>UN projection[1][3]</td>\n",
       "      <td>NaN</td>\n",
       "    </tr>\n",
       "    <tr>\n",
       "      <th>1</th>\n",
       "      <td>India</td>\n",
       "      <td>1413324000</td>\n",
       "      <td>NaN</td>\n",
       "      <td>1 Mar 2025</td>\n",
       "      <td>Official projection[4]</td>\n",
       "      <td>[b]</td>\n",
       "    </tr>\n",
       "    <tr>\n",
       "      <th>2</th>\n",
       "      <td>China</td>\n",
       "      <td>1408280000</td>\n",
       "      <td>NaN</td>\n",
       "      <td>31 Dec 2024</td>\n",
       "      <td>Official estimate[5]</td>\n",
       "      <td>[c]</td>\n",
       "    </tr>\n",
       "    <tr>\n",
       "      <th>3</th>\n",
       "      <td>United States</td>\n",
       "      <td>340110988</td>\n",
       "      <td>NaN</td>\n",
       "      <td>1 Jul 2024</td>\n",
       "      <td>Official estimate[6]</td>\n",
       "      <td>[d]</td>\n",
       "    </tr>\n",
       "    <tr>\n",
       "      <th>4</th>\n",
       "      <td>Indonesia</td>\n",
       "      <td>282477584</td>\n",
       "      <td>NaN</td>\n",
       "      <td>30 Jun 2024</td>\n",
       "      <td>National annual projection[7]</td>\n",
       "      <td>NaN</td>\n",
       "    </tr>\n",
       "  </tbody>\n",
       "</table>\n",
       "</div>"
      ],
      "text/plain": [
       "        Location  Population % of world         Date  \\\n",
       "0          World  8232000000       100%  13 Jun 2025   \n",
       "1          India  1413324000        NaN   1 Mar 2025   \n",
       "2          China  1408280000        NaN  31 Dec 2024   \n",
       "3  United States   340110988        NaN   1 Jul 2024   \n",
       "4      Indonesia   282477584        NaN  30 Jun 2024   \n",
       "\n",
       "  Source (official or from the United Nations) Notes  \n",
       "0                          UN projection[1][3]   NaN  \n",
       "1                       Official projection[4]   [b]  \n",
       "2                         Official estimate[5]   [c]  \n",
       "3                         Official estimate[6]   [d]  \n",
       "4                National annual projection[7]   NaN  "
      ]
     },
     "execution_count": 23,
     "metadata": {},
     "output_type": "execute_result"
    }
   ],
   "source": [
    "import pandas as pd\n",
    "import sqlite3\n",
    "import requests\n",
    "from bs4 import BeautifulSoup\n",
    "\n",
    "csv_df=pd.read_csv('Iris.csv')\n",
    "print(\"CSV Data:\")\n",
    "print(csv_df.head())\n",
    "excel_df=pd.read_excel('exported_data.xlsx')\n",
    "print(\"\\nExcel Data:\")\n",
    "excel_df.head(5)"
   ]
  },
  {
   "cell_type": "code",
   "execution_count": 18,
   "id": "d5e63e1f-6efc-4bf6-b806-df55f3b1a293",
   "metadata": {
    "tags": []
   },
   "outputs": [
    {
     "name": "stdout",
     "output_type": "stream",
     "text": [
      "Database and 'employees' table created with sample data.\n",
      "   id         name department   salary   hire_date\n",
      "0   1  Alice Smith         HR  55000.0  2018-05-01\n",
      "1   2  Bob Johnson         IT  72000.0  2019-07-15\n",
      "2   3  Carol White    Finance  68000.0  2017-09-30\n",
      "3   4  David Brown  Marketing  60000.0  2020-02-10\n",
      "4   5    Eva Green         IT  75000.0  2021-04-25\n"
     ]
    }
   ],
   "source": [
    "import sqlite3\n",
    "conn=sqlite3.connect('my_database.db')\n",
    "cursor=conn.cursor()\n",
    "cursor.execute('''\n",
    "               CREATE TABLE IF NOT EXISTS employees(\n",
    "                   id INTEGER PRIMARY KEY,\n",
    "                   name TEXT,\n",
    "                   department TEXT,\n",
    "                   salary REAL,\n",
    "                   hire_date TEXT\n",
    "               )\n",
    "               ''')\n",
    "cursor.executemany('''\n",
    "            INSERT INTO employees (id, name, department, salary, hire_date) VALUES (?, ?, ?, ?, ?)\n",
    "            ''',[\n",
    "                    (1,'Alice Smith','HR',55000,'2018-05-01'),\n",
    "                    (2,'Bob Johnson','IT',72000,'2019-07-15'),\n",
    "                    (3,'Carol White','Finance',68000,'2017-09-30'),\n",
    "                    (4,'David Brown','Marketing',60000,'2020-02-10'),\n",
    "                    (5,'Eva Green','IT',75000,'2021-04-25')\n",
    "])\n",
    "conn.commit()\n",
    "print(\"Database and 'employees' table created with sample data.\")\n",
    "\n",
    "sql_df=pd.read_sql_query(\"SELECT * FROM employees\",conn)\n",
    "print(sql_df)\n",
    "               "
   ]
  },
  {
   "cell_type": "code",
   "execution_count": 20,
   "id": "422570e9-d696-4ffc-95b4-e8447775971e",
   "metadata": {
    "tags": []
   },
   "outputs": [
    {
     "name": "stdout",
     "output_type": "stream",
     "text": [
      "\n",
      "Web Scraped Data:\n",
      "        Location  Population % of world         Date  \\\n",
      "0          World  8232000000       100%  13 Jun 2025   \n",
      "1          India  1413324000        NaN   1 Mar 2025   \n",
      "2          China  1408280000        NaN  31 Dec 2024   \n",
      "3  United States   340110988        NaN   1 Jul 2024   \n",
      "4      Indonesia   282477584        NaN  30 Jun 2024   \n",
      "\n",
      "  Source (official or from the United Nations) Notes  \n",
      "0                          UN projection[1][3]   NaN  \n",
      "1                       Official projection[4]   [b]  \n",
      "2                         Official estimate[5]   [c]  \n",
      "3                         Official estimate[6]   [d]  \n",
      "4                National annual projection[7]   NaN  \n"
     ]
    }
   ],
   "source": [
    "import pandas as pd\n",
    "import requests\n",
    "from bs4 import BeautifulSoup\n",
    "\n",
    "url=\"https://en.wikipedia.org/wiki/List_of_countries_and_dependencies_by_population\"\n",
    "response=requests.get(url)\n",
    "soup=BeautifulSoup(response.content,\"html.parser\")\n",
    "html_table=soup.find(\"table\",{\"class\":\"wikitable\"})\n",
    "web_df=pd.read_html(str(html_table))[0]\n",
    "print(\"\\nWeb Scraped Data:\")\n",
    "print(web_df.head())"
   ]
  },
  {
   "cell_type": "code",
   "execution_count": 22,
   "id": "14e31ab8-087c-402d-8f97-d7255b1e9539",
   "metadata": {
    "tags": []
   },
   "outputs": [
    {
     "name": "stdout",
     "output_type": "stream",
     "text": [
      "\n",
      "Data exported to 'exported_data.xlsx' successfully.\n"
     ]
    }
   ],
   "source": [
    "if 'date' in web_df.columns:\n",
    "    web_df['date']=pd.to_datetime(web_df['date'])\n",
    "web_df.to_excel('exported_data.xlsx',index=False)\n",
    "print(\"\\nData exported to 'exported_data.xlsx' successfully.\")"
   ]
  },
  {
   "cell_type": "code",
   "execution_count": null,
   "id": "3b5b6061-3aab-41b5-9148-b8fccebca010",
   "metadata": {},
   "outputs": [],
   "source": []
  }
 ],
 "metadata": {
  "kernelspec": {
   "display_name": "Python 3 (ipykernel)",
   "language": "python",
   "name": "python3"
  },
  "language_info": {
   "codemirror_mode": {
    "name": "ipython",
    "version": 3
   },
   "file_extension": ".py",
   "mimetype": "text/x-python",
   "name": "python",
   "nbconvert_exporter": "python",
   "pygments_lexer": "ipython3",
   "version": "3.11.5"
  }
 },
 "nbformat": 4,
 "nbformat_minor": 5
}
